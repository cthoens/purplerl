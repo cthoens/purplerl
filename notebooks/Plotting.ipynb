{
 "cells": [
  {
   "cell_type": "code",
   "execution_count": 1,
   "id": "2838385d-6307-461a-8a0b-e69a7fa6639c",
   "metadata": {},
   "outputs": [
    {
     "name": "stdout",
     "output_type": "stream",
     "text": [
      "Using matplotlib backend: TkAgg\n"
     ]
    }
   ],
   "source": [
    "%matplotlib\n",
    "import spinup.utils.plot as splot\n",
    "import matplotlib.pyplot as plt\n",
    "import numpy as np"
   ]
  },
  {
   "cell_type": "code",
   "execution_count": 2,
   "id": "bb1ee16c-705c-4a1e-9d01-90a8ce198267",
   "metadata": {},
   "outputs": [],
   "source": [
    "def make_plots(all_logdirs, legend=None, xaxis=None, values=None, count=False,\n",
    "               font_scale=1.5, smooth=1, select=None, exclude=None, estimator='mean',\n",
    "               plt_axes=[]):\n",
    "    data = splot.get_all_datasets(all_logdirs, legend, select, exclude)\n",
    "    values = values if isinstance(values, list) else [values]\n",
    "    plt_axes = plt_axes if isinstance(plt_axes, list) or isinstance(plt_axes, np.ndarray) else [plt_axes]\n",
    "    condition = 'Condition2' if count else 'Condition1'\n",
    "    estimator = getattr(np, estimator)      # choose what to show on main curve: mean? max? min?\n",
    "    for value, ax in zip(values, plt_axes):        \n",
    "        splot.plot_data(data, ax=ax, xaxis=xaxis, value=value, condition=condition, smooth=smooth, estimator=estimator)        \n",
    "    plt.show()"
   ]
  },
  {
   "cell_type": "code",
   "execution_count": 6,
   "id": "2231087d-16f2-4038-a09b-bc7b95979aa0",
   "metadata": {},
   "outputs": [
    {
     "name": "stderr",
     "output_type": "stream",
     "text": [
      "/home/cthoens/anaconda3/envs/spinningup/lib/python3.8/site-packages/seaborn/timeseries.py:183: UserWarning: The tsplot function is deprecated and will be removed or replaced (in a substantially altered version) in a future release.\n",
      "  warnings.warn(msg, UserWarning)\n",
      "No handles with labels found to put in legend.\n"
     ]
    },
    {
     "name": "stdout",
     "output_type": "stream",
     "text": [
      "Plotting from...\n",
      "==================================================\n",
      "\n",
      "/home/cthoens/code/UnityRL/simplerl/runs\n",
      "\n",
      "==================================================\n"
     ]
    },
    {
     "name": "stderr",
     "output_type": "stream",
     "text": [
      "/home/cthoens/anaconda3/envs/spinningup/lib/python3.8/site-packages/seaborn/timeseries.py:183: UserWarning: The tsplot function is deprecated and will be removed or replaced (in a substantially altered version) in a future release.\n",
      "  warnings.warn(msg, UserWarning)\n",
      "/home/cthoens/code/UnityRL/spinningup/spinup/utils/plot.py:59: UserWarning: Tight layout not applied. tight_layout cannot make axes width small enough to accommodate all axes decorations\n",
      "  plt.tight_layout(pad=0.5)\n"
     ]
    }
   ],
   "source": [
    "logdir = [\"/home/cthoens/code/UnityRL/simplerl/runs\"]\n",
    "legend = None\n",
    "xaxis = \"Epoch\"\n",
    "value = [\"Performance\", \"AverageEntropy\"] \n",
    "count = False\n",
    "smooth = 10\n",
    "select = None\n",
    "exclude = None\n",
    "estimator = \"min\"\n",
    "\n",
    "fig, axes = plt.subplots(1, 2, figsize=(16,8))\n",
    "\n",
    "make_plots(logdir, legend, xaxis, value, count, \n",
    "               smooth=smooth, select=select, exclude=exclude, estimator=estimator,\n",
    "               plt_axes=axes #, axes.twinx()\n",
    "          )"
   ]
  },
  {
   "cell_type": "code",
   "execution_count": null,
   "id": "00f007e8-223e-4a01-bcdc-04b500d8841b",
   "metadata": {},
   "outputs": [],
   "source": []
  },
  {
   "cell_type": "code",
   "execution_count": null,
   "id": "dfe8f7d8-ff8c-4252-8a0b-fba730b576d3",
   "metadata": {},
   "outputs": [],
   "source": []
  }
 ],
 "metadata": {
  "kernelspec": {
   "display_name": "spinup",
   "language": "python",
   "name": "spinup"
  },
  "language_info": {
   "codemirror_mode": {
    "name": "ipython",
    "version": 3
   },
   "file_extension": ".py",
   "mimetype": "text/x-python",
   "name": "python",
   "nbconvert_exporter": "python",
   "pygments_lexer": "ipython3",
   "version": "3.8.13"
  }
 },
 "nbformat": 4,
 "nbformat_minor": 5
}
