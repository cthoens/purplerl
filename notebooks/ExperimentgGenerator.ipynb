{
 "cells": [
  {
   "cell_type": "code",
   "execution_count": 1,
   "id": "c2689a9c-0c95-4484-b9ef-430841279c54",
   "metadata": {},
   "outputs": [],
   "source": [
    "import pandas as pd\n",
    "import collections\n"
   ]
  },
  {
   "cell_type": "code",
   "execution_count": 20,
   "id": "36eee442-5b74-4047-9a17-44b6e9f1697a",
   "metadata": {},
   "outputs": [],
   "source": [
    "def createName(args):\n",
    "    env_name = args.pop(\"env_name\")\n",
    "\n",
    "    exp_name = \"\"\n",
    "    for key, value in args.items():\n",
    "        exp_name += f\"{key}_{value}-\"\n",
    "    exp_name = exp_name[:-1]\n",
    "    return exp_name\n",
    "\n",
    "def createExperiment(env_name='LunarLander-v3', hidden_sizes=[64, 64],\n",
    "            policy_lr=1e-3, value_net_lr=1e-3,\n",
    "            epochs=50, batch_size=4, buffer_size=5000,\n",
    "            algo: str=\"REWARD_TO_GO\"):\n",
    "    #exp_name = createName(dict(locals()))\n",
    "    return collections.OrderedDict(sorted(locals().items()))\n",
    "    "
   ]
  },
  {
   "cell_type": "code",
   "execution_count": 21,
   "id": "57682163-7ab2-488c-94c6-a8cebae70ed5",
   "metadata": {},
   "outputs": [],
   "source": [
    "# Compare preformance of different algorithms\n",
    "\n",
    "experiments=[]\n",
    "\n",
    "env_name = \"LunarLander-v2\"  # Discrete action space\n",
    "experiments.append(createExperiment(\n",
    "    env_name = env_name,\n",
    "    algo     = \"VANILLA\")\n",
    ")\n",
    "experiments.append(createExperiment(\n",
    "    env_name = env_name,\n",
    "    algo     = \"REWARD_TO_GO\")\n",
    ")\n",
    "\n",
    "\n",
    "env_name = \"BipedalWalker-v3\" # Continuous action space\n",
    "experiments.append(createExperiment(\n",
    "    env_name = env_name,\n",
    "    algo     = \"VANILLA\")\n",
    ")\n",
    "experiments.append(createExperiment(\n",
    "    env_name = env_name,\n",
    "    algo     = \"REWARD_TO_GO\")\n",
    ")\n",
    "\n",
    "\n",
    "    \n"
   ]
  },
  {
   "cell_type": "code",
   "execution_count": 22,
   "id": "965cd98d-0da2-49aa-b60a-2775d8452f7f",
   "metadata": {},
   "outputs": [],
   "source": [
    "df = pd.DataFrame(experiments)"
   ]
  },
  {
   "cell_type": "code",
   "execution_count": 23,
   "id": "3befeade-cbdf-4932-90dd-f78b7666cbc7",
   "metadata": {},
   "outputs": [
    {
     "data": {
      "text/html": [
       "<div>\n",
       "<style scoped>\n",
       "    .dataframe tbody tr th:only-of-type {\n",
       "        vertical-align: middle;\n",
       "    }\n",
       "\n",
       "    .dataframe tbody tr th {\n",
       "        vertical-align: top;\n",
       "    }\n",
       "\n",
       "    .dataframe thead th {\n",
       "        text-align: right;\n",
       "    }\n",
       "</style>\n",
       "<table border=\"1\" class=\"dataframe\">\n",
       "  <thead>\n",
       "    <tr style=\"text-align: right;\">\n",
       "      <th></th>\n",
       "      <th>algo</th>\n",
       "      <th>batch_size</th>\n",
       "      <th>buffer_size</th>\n",
       "      <th>env_name</th>\n",
       "      <th>epochs</th>\n",
       "      <th>hidden_sizes</th>\n",
       "      <th>policy_lr</th>\n",
       "      <th>value_net_lr</th>\n",
       "    </tr>\n",
       "  </thead>\n",
       "  <tbody>\n",
       "    <tr>\n",
       "      <th>0</th>\n",
       "      <td>VANILLA</td>\n",
       "      <td>4</td>\n",
       "      <td>5000</td>\n",
       "      <td>LunarLander-v2</td>\n",
       "      <td>50</td>\n",
       "      <td>[64, 64]</td>\n",
       "      <td>0.001</td>\n",
       "      <td>0.001</td>\n",
       "    </tr>\n",
       "    <tr>\n",
       "      <th>1</th>\n",
       "      <td>REWARD_TO_GO</td>\n",
       "      <td>4</td>\n",
       "      <td>5000</td>\n",
       "      <td>LunarLander-v2</td>\n",
       "      <td>50</td>\n",
       "      <td>[64, 64]</td>\n",
       "      <td>0.001</td>\n",
       "      <td>0.001</td>\n",
       "    </tr>\n",
       "    <tr>\n",
       "      <th>2</th>\n",
       "      <td>VANILLA</td>\n",
       "      <td>4</td>\n",
       "      <td>5000</td>\n",
       "      <td>BipedalWalker-v3</td>\n",
       "      <td>50</td>\n",
       "      <td>[64, 64]</td>\n",
       "      <td>0.001</td>\n",
       "      <td>0.001</td>\n",
       "    </tr>\n",
       "    <tr>\n",
       "      <th>3</th>\n",
       "      <td>REWARD_TO_GO</td>\n",
       "      <td>4</td>\n",
       "      <td>5000</td>\n",
       "      <td>BipedalWalker-v3</td>\n",
       "      <td>50</td>\n",
       "      <td>[64, 64]</td>\n",
       "      <td>0.001</td>\n",
       "      <td>0.001</td>\n",
       "    </tr>\n",
       "  </tbody>\n",
       "</table>\n",
       "</div>"
      ],
      "text/plain": [
       "           algo  batch_size  buffer_size          env_name  epochs  \\\n",
       "0       VANILLA           4         5000    LunarLander-v2      50   \n",
       "1  REWARD_TO_GO           4         5000    LunarLander-v2      50   \n",
       "2       VANILLA           4         5000  BipedalWalker-v3      50   \n",
       "3  REWARD_TO_GO           4         5000  BipedalWalker-v3      50   \n",
       "\n",
       "  hidden_sizes  policy_lr  value_net_lr  \n",
       "0     [64, 64]      0.001         0.001  \n",
       "1     [64, 64]      0.001         0.001  \n",
       "2     [64, 64]      0.001         0.001  \n",
       "3     [64, 64]      0.001         0.001  "
      ]
     },
     "execution_count": 23,
     "metadata": {},
     "output_type": "execute_result"
    }
   ],
   "source": [
    "df"
   ]
  },
  {
   "cell_type": "code",
   "execution_count": 24,
   "id": "5369e61e-450c-42fa-b82d-b47ed08f3ca0",
   "metadata": {},
   "outputs": [],
   "source": [
    "df.to_json(\"../runs/compare_algo.json\")"
   ]
  },
  {
   "cell_type": "code",
   "execution_count": 38,
   "id": "935eba21-46cd-48e7-a4f1-83d4fbf6bb74",
   "metadata": {},
   "outputs": [
    {
     "name": "stdout",
     "output_type": "stream",
     "text": [
      "algo\n",
      "env_name\n"
     ]
    }
   ],
   "source": [
    "def is_unique(s: pd.Series):\n",
    "    it = iter(s)\n",
    "    value = next(it)\n",
    "    for v in it:\n",
    "        if v != value:\n",
    "            return False\n",
    "    return True\n",
    "\n",
    "\n",
    "for col in df:\n",
    "    if not is_unique(df[col]):\n",
    "        print(col)"
   ]
  },
  {
   "cell_type": "code",
   "execution_count": null,
   "id": "3204c05a-7470-43db-bab5-d33f9d645fb0",
   "metadata": {},
   "outputs": [],
   "source": []
  }
 ],
 "metadata": {
  "kernelspec": {
   "display_name": "spinup",
   "language": "python",
   "name": "spinup"
  },
  "language_info": {
   "codemirror_mode": {
    "name": "ipython",
    "version": 3
   },
   "file_extension": ".py",
   "mimetype": "text/x-python",
   "name": "python",
   "nbconvert_exporter": "python",
   "pygments_lexer": "ipython3",
   "version": "3.8.13"
  }
 },
 "nbformat": 4,
 "nbformat_minor": 5
}
